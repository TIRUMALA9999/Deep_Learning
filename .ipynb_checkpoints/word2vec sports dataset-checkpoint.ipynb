{
 "cells": [
  {
   "cell_type": "code",
   "execution_count": 1,
   "id": "e934b350",
   "metadata": {},
   "outputs": [],
   "source": [
    "import gensim\n",
    "import pandas as pd"
   ]
  },
  {
   "cell_type": "code",
   "execution_count": 2,
   "id": "fa1803c9",
   "metadata": {},
   "outputs": [],
   "source": [
    "data=pd.read_json('Sports_and_Outdoors_5.json',lines=True)"
   ]
  },
  {
   "cell_type": "code",
   "execution_count": 4,
   "id": "7b4a6885",
   "metadata": {},
   "outputs": [
    {
     "data": {
      "text/html": [
       "<div>\n",
       "<style scoped>\n",
       "    .dataframe tbody tr th:only-of-type {\n",
       "        vertical-align: middle;\n",
       "    }\n",
       "\n",
       "    .dataframe tbody tr th {\n",
       "        vertical-align: top;\n",
       "    }\n",
       "\n",
       "    .dataframe thead th {\n",
       "        text-align: right;\n",
       "    }\n",
       "</style>\n",
       "<table border=\"1\" class=\"dataframe\">\n",
       "  <thead>\n",
       "    <tr style=\"text-align: right;\">\n",
       "      <th></th>\n",
       "      <th>reviewerID</th>\n",
       "      <th>asin</th>\n",
       "      <th>reviewerName</th>\n",
       "      <th>helpful</th>\n",
       "      <th>reviewText</th>\n",
       "      <th>overall</th>\n",
       "      <th>summary</th>\n",
       "      <th>unixReviewTime</th>\n",
       "      <th>reviewTime</th>\n",
       "    </tr>\n",
       "  </thead>\n",
       "  <tbody>\n",
       "    <tr>\n",
       "      <th>0</th>\n",
       "      <td>AIXZKN4ACSKI</td>\n",
       "      <td>1881509818</td>\n",
       "      <td>David Briner</td>\n",
       "      <td>[0, 0]</td>\n",
       "      <td>This came in on time and I am veru happy with ...</td>\n",
       "      <td>5</td>\n",
       "      <td>Woks very good</td>\n",
       "      <td>1390694400</td>\n",
       "      <td>01 26, 2014</td>\n",
       "    </tr>\n",
       "    <tr>\n",
       "      <th>1</th>\n",
       "      <td>A1L5P841VIO02V</td>\n",
       "      <td>1881509818</td>\n",
       "      <td>Jason A. Kramer</td>\n",
       "      <td>[1, 1]</td>\n",
       "      <td>I had a factory Glock tool that I was using fo...</td>\n",
       "      <td>5</td>\n",
       "      <td>Works as well as the factory tool</td>\n",
       "      <td>1328140800</td>\n",
       "      <td>02 2, 2012</td>\n",
       "    </tr>\n",
       "    <tr>\n",
       "      <th>2</th>\n",
       "      <td>AB2W04NI4OEAD</td>\n",
       "      <td>1881509818</td>\n",
       "      <td>J. Fernald</td>\n",
       "      <td>[2, 2]</td>\n",
       "      <td>If you don't have a 3/32 punch or would like t...</td>\n",
       "      <td>4</td>\n",
       "      <td>It's a punch, that's all.</td>\n",
       "      <td>1330387200</td>\n",
       "      <td>02 28, 2012</td>\n",
       "    </tr>\n",
       "    <tr>\n",
       "      <th>3</th>\n",
       "      <td>A148SVSWKTJKU6</td>\n",
       "      <td>1881509818</td>\n",
       "      <td>Jusitn A. Watts \"Maverick9614\"</td>\n",
       "      <td>[0, 0]</td>\n",
       "      <td>This works no better than any 3/32 punch you w...</td>\n",
       "      <td>4</td>\n",
       "      <td>It's a punch with a Glock logo.</td>\n",
       "      <td>1328400000</td>\n",
       "      <td>02 5, 2012</td>\n",
       "    </tr>\n",
       "    <tr>\n",
       "      <th>4</th>\n",
       "      <td>AAAWJ6LW9WMOO</td>\n",
       "      <td>1881509818</td>\n",
       "      <td>Material Man</td>\n",
       "      <td>[0, 0]</td>\n",
       "      <td>I purchased this thinking maybe I need a speci...</td>\n",
       "      <td>4</td>\n",
       "      <td>Ok,tool does what a regular punch does.</td>\n",
       "      <td>1366675200</td>\n",
       "      <td>04 23, 2013</td>\n",
       "    </tr>\n",
       "  </tbody>\n",
       "</table>\n",
       "</div>"
      ],
      "text/plain": [
       "       reviewerID        asin                    reviewerName helpful  \\\n",
       "0    AIXZKN4ACSKI  1881509818                    David Briner  [0, 0]   \n",
       "1  A1L5P841VIO02V  1881509818                 Jason A. Kramer  [1, 1]   \n",
       "2   AB2W04NI4OEAD  1881509818                      J. Fernald  [2, 2]   \n",
       "3  A148SVSWKTJKU6  1881509818  Jusitn A. Watts \"Maverick9614\"  [0, 0]   \n",
       "4   AAAWJ6LW9WMOO  1881509818                    Material Man  [0, 0]   \n",
       "\n",
       "                                          reviewText  overall  \\\n",
       "0  This came in on time and I am veru happy with ...        5   \n",
       "1  I had a factory Glock tool that I was using fo...        5   \n",
       "2  If you don't have a 3/32 punch or would like t...        4   \n",
       "3  This works no better than any 3/32 punch you w...        4   \n",
       "4  I purchased this thinking maybe I need a speci...        4   \n",
       "\n",
       "                                   summary  unixReviewTime   reviewTime  \n",
       "0                           Woks very good      1390694400  01 26, 2014  \n",
       "1        Works as well as the factory tool      1328140800   02 2, 2012  \n",
       "2                It's a punch, that's all.      1330387200  02 28, 2012  \n",
       "3          It's a punch with a Glock logo.      1328400000   02 5, 2012  \n",
       "4  Ok,tool does what a regular punch does.      1366675200  04 23, 2013  "
      ]
     },
     "execution_count": 4,
     "metadata": {},
     "output_type": "execute_result"
    }
   ],
   "source": [
    "data.head()"
   ]
  },
  {
   "cell_type": "code",
   "execution_count": 5,
   "id": "7673ae99",
   "metadata": {},
   "outputs": [
    {
     "data": {
      "text/plain": [
       "(296337, 9)"
      ]
     },
     "execution_count": 5,
     "metadata": {},
     "output_type": "execute_result"
    }
   ],
   "source": [
    "data.shape"
   ]
  },
  {
   "cell_type": "code",
   "execution_count": 6,
   "id": "ee0f29f6",
   "metadata": {},
   "outputs": [
    {
     "data": {
      "text/plain": [
       "0         This came in on time and I am veru happy with ...\n",
       "1         I had a factory Glock tool that I was using fo...\n",
       "2         If you don't have a 3/32 punch or would like t...\n",
       "3         This works no better than any 3/32 punch you w...\n",
       "4         I purchased this thinking maybe I need a speci...\n",
       "                                ...                        \n",
       "296332    This is a water bottle done right. It is a ver...\n",
       "296333    If you're looking for an insulated water bottl...\n",
       "296334    This Hydracentials Sporty 25 OZ, double insula...\n",
       "296335    As usual I received this item free in exchange...\n",
       "296336    Hydracentials insulated 25 oz water bottle.Thi...\n",
       "Name: reviewText, Length: 296337, dtype: object"
      ]
     },
     "execution_count": 6,
     "metadata": {},
     "output_type": "execute_result"
    }
   ],
   "source": [
    "data['reviewText']"
   ]
  },
  {
   "cell_type": "code",
   "execution_count": 7,
   "id": "20aa4dd1",
   "metadata": {},
   "outputs": [],
   "source": [
    "reviewed_text=data['reviewText'].apply(gensim.utils.simple_preprocess)"
   ]
  },
  {
   "cell_type": "code",
   "execution_count": 8,
   "id": "47f01f5c",
   "metadata": {},
   "outputs": [
    {
     "data": {
      "text/plain": [
       "0         [this, came, in, on, time, and, am, veru, happ...\n",
       "1         [had, factory, glock, tool, that, was, using, ...\n",
       "2         [if, you, don, have, punch, or, would, like, t...\n",
       "3         [this, works, no, better, than, any, punch, yo...\n",
       "4         [purchased, this, thinking, maybe, need, speci...\n",
       "                                ...                        \n",
       "296332    [this, is, water, bottle, done, right, it, is,...\n",
       "296333    [if, you, re, looking, for, an, insulated, wat...\n",
       "296334    [this, hydracentials, sporty, oz, double, insu...\n",
       "296335    [as, usual, received, this, item, free, in, ex...\n",
       "296336    [hydracentials, insulated, oz, water, bottle, ...\n",
       "Name: reviewText, Length: 296337, dtype: object"
      ]
     },
     "execution_count": 8,
     "metadata": {},
     "output_type": "execute_result"
    }
   ],
   "source": [
    "reviewed_text"
   ]
  },
  {
   "cell_type": "code",
   "execution_count": 9,
   "id": "96bd1f43",
   "metadata": {},
   "outputs": [
    {
     "data": {
      "text/plain": [
       "'This came in on time and I am veru happy with it, I haved used it already and it makes taking out the pins in my glock 32 very easy'"
      ]
     },
     "execution_count": 9,
     "metadata": {},
     "output_type": "execute_result"
    }
   ],
   "source": [
    "data['reviewText'][0]"
   ]
  },
  {
   "cell_type": "code",
   "execution_count": 11,
   "id": "37dc44db",
   "metadata": {},
   "outputs": [
    {
     "data": {
      "text/plain": [
       "['this',\n",
       " 'came',\n",
       " 'in',\n",
       " 'on',\n",
       " 'time',\n",
       " 'and',\n",
       " 'am',\n",
       " 'veru',\n",
       " 'happy',\n",
       " 'with',\n",
       " 'it',\n",
       " 'haved',\n",
       " 'used',\n",
       " 'it',\n",
       " 'already',\n",
       " 'and',\n",
       " 'it',\n",
       " 'makes',\n",
       " 'taking',\n",
       " 'out',\n",
       " 'the',\n",
       " 'pins',\n",
       " 'in',\n",
       " 'my',\n",
       " 'glock',\n",
       " 'very',\n",
       " 'easy']"
      ]
     },
     "execution_count": 11,
     "metadata": {},
     "output_type": "execute_result"
    }
   ],
   "source": [
    "gensim.utils.simple_preprocess('This came in on time and I am veru happy with it, I haved used it already and it makes taking out the pins in my glock 32 very easy')"
   ]
  },
  {
   "cell_type": "code",
   "execution_count": 13,
   "id": "aca448a1",
   "metadata": {},
   "outputs": [],
   "source": [
    "model=gensim.models.Word2Vec(window=10,\n",
    "                            min_count=2,\n",
    "                            workers=4\n",
    "                            )"
   ]
  },
  {
   "cell_type": "code",
   "execution_count": 14,
   "id": "58fb08b8",
   "metadata": {},
   "outputs": [],
   "source": [
    "model.build_vocab(reviewed_text,progress_per=1000)"
   ]
  },
  {
   "cell_type": "code",
   "execution_count": 15,
   "id": "ef236d19",
   "metadata": {},
   "outputs": [
    {
     "data": {
      "text/plain": [
       "(91334895, 121496535)"
      ]
     },
     "execution_count": 15,
     "metadata": {},
     "output_type": "execute_result"
    }
   ],
   "source": [
    "model.train(reviewed_text,total_examples=model.corpus_count,epochs=model.epochs)"
   ]
  },
  {
   "cell_type": "code",
   "execution_count": 16,
   "id": "463fa775",
   "metadata": {},
   "outputs": [
    {
     "data": {
      "text/plain": [
       "[('simple', 0.7053742408752441),\n",
       " ('breeze', 0.7052737474441528),\n",
       " ('difficult', 0.6357176899909973),\n",
       " ('straightforward', 0.5664270520210266),\n",
       " ('painless', 0.5583968162536621),\n",
       " ('convenient', 0.5540832877159119),\n",
       " ('ez', 0.540083110332489),\n",
       " ('hard', 0.5378602147102356),\n",
       " ('easiest', 0.5362946391105652),\n",
       " ('easier', 0.5322504639625549)]"
      ]
     },
     "execution_count": 16,
     "metadata": {},
     "output_type": "execute_result"
    }
   ],
   "source": [
    "model.wv.most_similar('easy')"
   ]
  },
  {
   "cell_type": "code",
   "execution_count": 17,
   "id": "9158fdda",
   "metadata": {},
   "outputs": [
    {
     "data": {
      "text/plain": [
       "0.70537424"
      ]
     },
     "execution_count": 17,
     "metadata": {},
     "output_type": "execute_result"
    }
   ],
   "source": [
    "model.wv.similarity(w1='easy',w2='simple')"
   ]
  },
  {
   "cell_type": "code",
   "execution_count": 18,
   "id": "f6d38ff1",
   "metadata": {},
   "outputs": [
    {
     "data": {
      "text/plain": [
       "0.5378602"
      ]
     },
     "execution_count": 18,
     "metadata": {},
     "output_type": "execute_result"
    }
   ],
   "source": [
    "model.wv.similarity(w1='easy',w2='hard')"
   ]
  },
  {
   "cell_type": "code",
   "execution_count": 19,
   "id": "8b62447b",
   "metadata": {},
   "outputs": [
    {
     "data": {
      "text/plain": [
       "0.043698214"
      ]
     },
     "execution_count": 19,
     "metadata": {},
     "output_type": "execute_result"
    }
   ],
   "source": [
    "model.wv.similarity(w1='it',w2='already')"
   ]
  },
  {
   "cell_type": "code",
   "execution_count": 23,
   "id": "793c40dc",
   "metadata": {},
   "outputs": [
    {
     "data": {
      "text/plain": [
       "[('horrible', 0.6779841184616089),\n",
       " ('terrible', 0.6636965870857239),\n",
       " ('unpleasant', 0.6357764601707458),\n",
       " ('overpowering', 0.5902155041694641),\n",
       " ('eyesore', 0.586756706237793),\n",
       " ('horrendous', 0.5838726162910461),\n",
       " ('utter', 0.5831835865974426),\n",
       " ('icky', 0.5704424381256104),\n",
       " ('enormous', 0.5589182376861572),\n",
       " ('oddity', 0.5543249249458313)]"
      ]
     },
     "execution_count": 23,
     "metadata": {},
     "output_type": "execute_result"
    }
   ],
   "source": [
    "model.wv.most_similar('awful')"
   ]
  },
  {
   "cell_type": "code",
   "execution_count": 24,
   "id": "2738f5f5",
   "metadata": {},
   "outputs": [
    {
     "data": {
      "text/plain": [
       "0.77798045"
      ]
     },
     "execution_count": 24,
     "metadata": {},
     "output_type": "execute_result"
    }
   ],
   "source": [
    "model.wv.similarity(w1='good',w2='great')"
   ]
  },
  {
   "cell_type": "code",
   "execution_count": 25,
   "id": "d08536b9",
   "metadata": {},
   "outputs": [
    {
     "data": {
      "text/plain": [
       "0.36558443"
      ]
     },
     "execution_count": 25,
     "metadata": {},
     "output_type": "execute_result"
    }
   ],
   "source": [
    "model.wv.similarity(w1='slow',w2='steady')"
   ]
  },
  {
   "cell_type": "code",
   "execution_count": 26,
   "id": "8fbd1074",
   "metadata": {},
   "outputs": [],
   "source": [
    "import tensorflow as tf"
   ]
  },
  {
   "cell_type": "code",
   "execution_count": 27,
   "id": "a529aaf0",
   "metadata": {},
   "outputs": [
    {
     "data": {
      "text/plain": [
       "[PhysicalDevice(name='/physical_device:CPU:0', device_type='CPU')]"
      ]
     },
     "execution_count": 27,
     "metadata": {},
     "output_type": "execute_result"
    }
   ],
   "source": [
    "tf.config.experimental.list_physical_devices()"
   ]
  },
  {
   "cell_type": "code",
   "execution_count": null,
   "id": "d14cf59b",
   "metadata": {},
   "outputs": [],
   "source": []
  }
 ],
 "metadata": {
  "kernelspec": {
   "display_name": "Python 3 (ipykernel)",
   "language": "python",
   "name": "python3"
  },
  "language_info": {
   "codemirror_mode": {
    "name": "ipython",
    "version": 3
   },
   "file_extension": ".py",
   "mimetype": "text/x-python",
   "name": "python",
   "nbconvert_exporter": "python",
   "pygments_lexer": "ipython3",
   "version": "3.11.4"
  }
 },
 "nbformat": 4,
 "nbformat_minor": 5
}
