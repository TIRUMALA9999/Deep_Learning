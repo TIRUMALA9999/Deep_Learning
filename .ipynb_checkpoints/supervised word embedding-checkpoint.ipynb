{
 "cells": [
  {
   "cell_type": "code",
   "execution_count": 1,
   "id": "921c665c",
   "metadata": {},
   "outputs": [],
   "source": [
    "import numpy as np\n",
    "from tensorflow.keras.preprocessing.text import one_hot\n",
    "from tensorflow.keras.preprocessing.sequence import pad_sequences\n",
    "from tensorflow.keras.models import Sequential\n",
    "from tensorflow.keras.layers import Dense\n",
    "from tensorflow.keras.layers import Flatten\n",
    "from tensorflow.keras.layers import Embedding\n"
   ]
  },
  {
   "cell_type": "code",
   "execution_count": 2,
   "id": "1efaf591",
   "metadata": {},
   "outputs": [],
   "source": [
    "reviews=['nice food',\n",
    "        'amazing restaurant',\n",
    "        'too good',\n",
    "        'just loved it!',\n",
    "        'will go again',\n",
    "        'horrible food',\n",
    "        'never go there',\n",
    "        'poor service',\n",
    "        'poor quality',\n",
    "        'needs improvement']\n",
    "sentiment=np.array([1,1,1,1,1,0,0,0,0,0])"
   ]
  },
  {
   "cell_type": "code",
   "execution_count": 3,
   "id": "1d7caa09",
   "metadata": {},
   "outputs": [
    {
     "data": {
      "text/plain": [
       "[14, 16]"
      ]
     },
     "execution_count": 3,
     "metadata": {},
     "output_type": "execute_result"
    }
   ],
   "source": [
    "one_hot(\"amazing restaurant\",30)   #30 is the vocabulary size"
   ]
  },
  {
   "cell_type": "code",
   "execution_count": 4,
   "id": "837a9b2d",
   "metadata": {},
   "outputs": [
    {
     "data": {
      "text/plain": [
       "[34, 16]"
      ]
     },
     "execution_count": 4,
     "metadata": {},
     "output_type": "execute_result"
    }
   ],
   "source": [
    "one_hot(\"amazing restaurant\",50)   #50 is the vocabulary size. you get values between 1 to 50. so amazing got 36 and restaurant got 19"
   ]
  },
  {
   "cell_type": "code",
   "execution_count": 5,
   "id": "98f8fee0",
   "metadata": {},
   "outputs": [
    {
     "data": {
      "text/plain": [
       "[[33, 8],\n",
       " [34, 16],\n",
       " [33, 31],\n",
       " [12, 48, 36],\n",
       " [16, 44, 28],\n",
       " [40, 8],\n",
       " [13, 44, 21],\n",
       " [38, 12],\n",
       " [38, 31],\n",
       " [5, 43]]"
      ]
     },
     "execution_count": 5,
     "metadata": {},
     "output_type": "execute_result"
    }
   ],
   "source": [
    "vocab_size=50\n",
    "encoded_reviews=[one_hot(d,vocab_size) for d in reviews]\n",
    "encoded_reviews"
   ]
  },
  {
   "cell_type": "code",
   "execution_count": 6,
   "id": "51ad6cde",
   "metadata": {},
   "outputs": [
    {
     "data": {
      "text/plain": [
       "array([[33,  8,  0],\n",
       "       [34, 16,  0],\n",
       "       [33, 31,  0],\n",
       "       [12, 48, 36],\n",
       "       [16, 44, 28],\n",
       "       [40,  8,  0],\n",
       "       [13, 44, 21],\n",
       "       [38, 12,  0],\n",
       "       [38, 31,  0],\n",
       "       [ 5, 43,  0]])"
      ]
     },
     "execution_count": 6,
     "metadata": {},
     "output_type": "execute_result"
    }
   ],
   "source": [
    "max_length=3\n",
    "padded_reviews=pad_sequences(encoded_reviews,maxlen=max_length,padding='post')\n",
    "padded_reviews"
   ]
  },
  {
   "cell_type": "code",
   "execution_count": 7,
   "id": "9278a3c7",
   "metadata": {},
   "outputs": [],
   "source": [
    "embeded_vector_size=4\n",
    "model=Sequential()\n",
    "model.add(Embedding(vocab_size,embeded_vector_size,input_length=max_length,name=\"embedding\"))\n",
    "model.add(Flatten())\n",
    "model.add(Dense(1,activation='sigmoid'))"
   ]
  },
  {
   "cell_type": "code",
   "execution_count": 8,
   "id": "e6080673",
   "metadata": {},
   "outputs": [],
   "source": [
    "X=padded_reviews\n",
    "y=sentiment"
   ]
  },
  {
   "cell_type": "code",
   "execution_count": 9,
   "id": "54319068",
   "metadata": {},
   "outputs": [
    {
     "name": "stdout",
     "output_type": "stream",
     "text": [
      "Model: \"sequential\"\n",
      "_________________________________________________________________\n",
      " Layer (type)                Output Shape              Param #   \n",
      "=================================================================\n",
      " embedding (Embedding)       (None, 3, 4)              200       \n",
      "                                                                 \n",
      " flatten (Flatten)           (None, 12)                0         \n",
      "                                                                 \n",
      " dense (Dense)               (None, 1)                 13        \n",
      "                                                                 \n",
      "=================================================================\n",
      "Total params: 213 (852.00 Byte)\n",
      "Trainable params: 213 (852.00 Byte)\n",
      "Non-trainable params: 0 (0.00 Byte)\n",
      "_________________________________________________________________\n"
     ]
    }
   ],
   "source": [
    "model.compile(optimizer='adam',loss='binary_crossentropy',metrics=['accuracy'])\n",
    "model.summary()"
   ]
  },
  {
   "cell_type": "code",
   "execution_count": 10,
   "id": "fe49d620",
   "metadata": {},
   "outputs": [
    {
     "data": {
      "text/plain": [
       "<keras.src.callbacks.History at 0x21ffe17d6d0>"
      ]
     },
     "execution_count": 10,
     "metadata": {},
     "output_type": "execute_result"
    }
   ],
   "source": [
    "model.fit(X,y,epochs=50,verbose=0)"
   ]
  },
  {
   "cell_type": "code",
   "execution_count": 11,
   "id": "ee5f8ece",
   "metadata": {},
   "outputs": [
    {
     "name": "stdout",
     "output_type": "stream",
     "text": [
      "1/1 [==============================] - 0s 129ms/step - loss: 0.6322 - accuracy: 1.0000\n"
     ]
    },
    {
     "data": {
      "text/plain": [
       "0.6321685910224915"
      ]
     },
     "execution_count": 11,
     "metadata": {},
     "output_type": "execute_result"
    }
   ],
   "source": [
    "loss,accuracy=model.evaluate(X,y)\n",
    "accuracy\n",
    "loss"
   ]
  },
  {
   "cell_type": "code",
   "execution_count": 12,
   "id": "8b188ae0",
   "metadata": {},
   "outputs": [
    {
     "name": "stdout",
     "output_type": "stream",
     "text": [
      "1/1 [==============================] - 0s 28ms/step - loss: 0.6322 - accuracy: 1.0000\n"
     ]
    },
    {
     "data": {
      "text/plain": [
       "[0.6321685910224915, 1.0]"
      ]
     },
     "execution_count": 12,
     "metadata": {},
     "output_type": "execute_result"
    }
   ],
   "source": [
    "model.evaluate(X,y)"
   ]
  },
  {
   "cell_type": "code",
   "execution_count": 13,
   "id": "f05f8236",
   "metadata": {
    "scrolled": true
   },
   "outputs": [
    {
     "data": {
      "text/plain": [
       "[array([[-0.08216314, -0.07538348,  0.00807854, -0.08566938],\n",
       "        [ 0.02670072,  0.00283396,  0.0150683 ,  0.02650651],\n",
       "        [ 0.03918381,  0.04938804, -0.03105499, -0.03923974],\n",
       "        [-0.01243529, -0.00678836, -0.03744118, -0.00772535],\n",
       "        [-0.00117972, -0.00684365, -0.03205526, -0.04824449],\n",
       "        [-0.09686375,  0.0016001 ,  0.06795985,  0.04479323],\n",
       "        [-0.03724704,  0.02412999, -0.01731255, -0.02619852],\n",
       "        [-0.03518318, -0.00906726, -0.03186977,  0.03878793],\n",
       "        [-0.00850169, -0.06555107,  0.01104152, -0.03612821],\n",
       "        [-0.03555058, -0.02685415, -0.03740792,  0.01585919],\n",
       "        [-0.04836482,  0.02901696, -0.04396243, -0.01708928],\n",
       "        [ 0.01649885, -0.04095041, -0.03778551, -0.03574239],\n",
       "        [-0.05333111, -0.07608692, -0.01807136, -0.03358784],\n",
       "        [-0.03546496,  0.0120766 ,  0.03102426,  0.05668727],\n",
       "        [ 0.00611077, -0.02114694,  0.01272365, -0.01595014],\n",
       "        [ 0.04039938, -0.04740801, -0.01056651, -0.03781551],\n",
       "        [ 0.03150135, -0.03618769,  0.02901584, -0.04000481],\n",
       "        [ 0.0081357 ,  0.02208463,  0.00668167,  0.03817712],\n",
       "        [ 0.04674793,  0.0053901 ,  0.03419914,  0.03482321],\n",
       "        [-0.02357613,  0.01975073, -0.01366665, -0.00410701],\n",
       "        [-0.03252076,  0.02680817, -0.00282302,  0.04793732],\n",
       "        [-0.01092361, -0.1056345 ,  0.00158618, -0.03640885],\n",
       "        [-0.04547885,  0.03496848,  0.00885852,  0.02442763],\n",
       "        [-0.04322355,  0.04883856, -0.04117177,  0.04282575],\n",
       "        [-0.03387028, -0.03718059,  0.00140433, -0.01810903],\n",
       "        [-0.02244835, -0.04835354, -0.0221398 , -0.03899027],\n",
       "        [ 0.00102812, -0.0298708 , -0.04804133, -0.02678903],\n",
       "        [-0.04422849,  0.03981607, -0.01963081, -0.01730191],\n",
       "        [ 0.02060973,  0.04961489, -0.09479742,  0.09733238],\n",
       "        [ 0.01008171, -0.03884798,  0.04411102,  0.00353571],\n",
       "        [-0.01284849, -0.00328529, -0.0247357 , -0.02176874],\n",
       "        [-0.01326756,  0.00865481,  0.01736184, -0.05232012],\n",
       "        [-0.00400063,  0.00181532,  0.02774993, -0.04067717],\n",
       "        [ 0.04274547, -0.05113661, -0.08572916, -0.01011218],\n",
       "        [ 0.07831936, -0.07679372, -0.08718957, -0.06625805],\n",
       "        [-0.0116648 ,  0.02138488, -0.02162423, -0.04485346],\n",
       "        [ 0.03702239,  0.05115551, -0.09333027,  0.03153672],\n",
       "        [ 0.03479664, -0.01942175,  0.04523922, -0.01315977],\n",
       "        [-0.03790673,  0.04079995,  0.08250123,  0.04350694],\n",
       "        [-0.00935853, -0.03901482, -0.01360422,  0.0381318 ],\n",
       "        [-0.00223226,  0.07523979,  0.05495564,  0.09019874],\n",
       "        [ 0.01304552, -0.01304723, -0.00282011,  0.04793484],\n",
       "        [ 0.02528625,  0.03946051, -0.0043205 ,  0.01353974],\n",
       "        [-0.06255279,  0.00882624, -0.04056945,  0.07643353],\n",
       "        [-0.0172496 ,  0.01710755, -0.04832159, -0.0007945 ],\n",
       "        [-0.03154836,  0.01517446,  0.02263476,  0.01945194],\n",
       "        [-0.02082946, -0.03380888,  0.04244016,  0.01089429],\n",
       "        [ 0.00280512,  0.02830033,  0.04532025, -0.03774432],\n",
       "        [ 0.00519692, -0.00890337,  0.05325201, -0.08795684],\n",
       "        [-0.01912442, -0.03691775, -0.03022397, -0.0083006 ]],\n",
       "       dtype=float32)]"
      ]
     },
     "execution_count": 13,
     "metadata": {},
     "output_type": "execute_result"
    }
   ],
   "source": [
    "model.get_layer('embedding').get_weights()"
   ]
  },
  {
   "cell_type": "code",
   "execution_count": 14,
   "id": "40715192",
   "metadata": {},
   "outputs": [
    {
     "data": {
      "text/plain": [
       "array([[-0.08216314, -0.07538348,  0.00807854, -0.08566938],\n",
       "       [ 0.02670072,  0.00283396,  0.0150683 ,  0.02650651],\n",
       "       [ 0.03918381,  0.04938804, -0.03105499, -0.03923974],\n",
       "       [-0.01243529, -0.00678836, -0.03744118, -0.00772535],\n",
       "       [-0.00117972, -0.00684365, -0.03205526, -0.04824449],\n",
       "       [-0.09686375,  0.0016001 ,  0.06795985,  0.04479323],\n",
       "       [-0.03724704,  0.02412999, -0.01731255, -0.02619852],\n",
       "       [-0.03518318, -0.00906726, -0.03186977,  0.03878793],\n",
       "       [-0.00850169, -0.06555107,  0.01104152, -0.03612821],\n",
       "       [-0.03555058, -0.02685415, -0.03740792,  0.01585919],\n",
       "       [-0.04836482,  0.02901696, -0.04396243, -0.01708928],\n",
       "       [ 0.01649885, -0.04095041, -0.03778551, -0.03574239],\n",
       "       [-0.05333111, -0.07608692, -0.01807136, -0.03358784],\n",
       "       [-0.03546496,  0.0120766 ,  0.03102426,  0.05668727],\n",
       "       [ 0.00611077, -0.02114694,  0.01272365, -0.01595014],\n",
       "       [ 0.04039938, -0.04740801, -0.01056651, -0.03781551],\n",
       "       [ 0.03150135, -0.03618769,  0.02901584, -0.04000481],\n",
       "       [ 0.0081357 ,  0.02208463,  0.00668167,  0.03817712],\n",
       "       [ 0.04674793,  0.0053901 ,  0.03419914,  0.03482321],\n",
       "       [-0.02357613,  0.01975073, -0.01366665, -0.00410701],\n",
       "       [-0.03252076,  0.02680817, -0.00282302,  0.04793732],\n",
       "       [-0.01092361, -0.1056345 ,  0.00158618, -0.03640885],\n",
       "       [-0.04547885,  0.03496848,  0.00885852,  0.02442763],\n",
       "       [-0.04322355,  0.04883856, -0.04117177,  0.04282575],\n",
       "       [-0.03387028, -0.03718059,  0.00140433, -0.01810903],\n",
       "       [-0.02244835, -0.04835354, -0.0221398 , -0.03899027],\n",
       "       [ 0.00102812, -0.0298708 , -0.04804133, -0.02678903],\n",
       "       [-0.04422849,  0.03981607, -0.01963081, -0.01730191],\n",
       "       [ 0.02060973,  0.04961489, -0.09479742,  0.09733238],\n",
       "       [ 0.01008171, -0.03884798,  0.04411102,  0.00353571],\n",
       "       [-0.01284849, -0.00328529, -0.0247357 , -0.02176874],\n",
       "       [-0.01326756,  0.00865481,  0.01736184, -0.05232012],\n",
       "       [-0.00400063,  0.00181532,  0.02774993, -0.04067717],\n",
       "       [ 0.04274547, -0.05113661, -0.08572916, -0.01011218],\n",
       "       [ 0.07831936, -0.07679372, -0.08718957, -0.06625805],\n",
       "       [-0.0116648 ,  0.02138488, -0.02162423, -0.04485346],\n",
       "       [ 0.03702239,  0.05115551, -0.09333027,  0.03153672],\n",
       "       [ 0.03479664, -0.01942175,  0.04523922, -0.01315977],\n",
       "       [-0.03790673,  0.04079995,  0.08250123,  0.04350694],\n",
       "       [-0.00935853, -0.03901482, -0.01360422,  0.0381318 ],\n",
       "       [-0.00223226,  0.07523979,  0.05495564,  0.09019874],\n",
       "       [ 0.01304552, -0.01304723, -0.00282011,  0.04793484],\n",
       "       [ 0.02528625,  0.03946051, -0.0043205 ,  0.01353974],\n",
       "       [-0.06255279,  0.00882624, -0.04056945,  0.07643353],\n",
       "       [-0.0172496 ,  0.01710755, -0.04832159, -0.0007945 ],\n",
       "       [-0.03154836,  0.01517446,  0.02263476,  0.01945194],\n",
       "       [-0.02082946, -0.03380888,  0.04244016,  0.01089429],\n",
       "       [ 0.00280512,  0.02830033,  0.04532025, -0.03774432],\n",
       "       [ 0.00519692, -0.00890337,  0.05325201, -0.08795684],\n",
       "       [-0.01912442, -0.03691775, -0.03022397, -0.0083006 ]],\n",
       "      dtype=float32)"
      ]
     },
     "execution_count": 14,
     "metadata": {},
     "output_type": "execute_result"
    }
   ],
   "source": [
    "model.get_layer('embedding').get_weights()[0]"
   ]
  },
  {
   "cell_type": "code",
   "execution_count": 15,
   "id": "ffdecc66",
   "metadata": {},
   "outputs": [],
   "source": [
    "weights=model.get_layer('embedding').get_weights()[0]"
   ]
  },
  {
   "cell_type": "code",
   "execution_count": 16,
   "id": "ae93f468",
   "metadata": {},
   "outputs": [
    {
     "data": {
      "text/plain": [
       "50"
      ]
     },
     "execution_count": 16,
     "metadata": {},
     "output_type": "execute_result"
    }
   ],
   "source": [
    "len(weights)"
   ]
  },
  {
   "cell_type": "code",
   "execution_count": 17,
   "id": "ae5669fc",
   "metadata": {},
   "outputs": [
    {
     "data": {
      "text/plain": [
       "array([ 0.04039938, -0.04740801, -0.01056651, -0.03781551], dtype=float32)"
      ]
     },
     "execution_count": 17,
     "metadata": {},
     "output_type": "execute_result"
    }
   ],
   "source": [
    "weights[15]    #weights for nice word"
   ]
  },
  {
   "cell_type": "code",
   "execution_count": 18,
   "id": "ebde837f",
   "metadata": {},
   "outputs": [
    {
     "data": {
      "text/plain": [
       "array([ 0.03702239,  0.05115551, -0.09333027,  0.03153672], dtype=float32)"
      ]
     },
     "execution_count": 18,
     "metadata": {},
     "output_type": "execute_result"
    }
   ],
   "source": [
    "weights[36]   #weights for amazing word"
   ]
  },
  {
   "cell_type": "code",
   "execution_count": null,
   "id": "742cd5b0",
   "metadata": {},
   "outputs": [],
   "source": []
  }
 ],
 "metadata": {
  "kernelspec": {
   "display_name": "Python 3 (ipykernel)",
   "language": "python",
   "name": "python3"
  },
  "language_info": {
   "codemirror_mode": {
    "name": "ipython",
    "version": 3
   },
   "file_extension": ".py",
   "mimetype": "text/x-python",
   "name": "python",
   "nbconvert_exporter": "python",
   "pygments_lexer": "ipython3",
   "version": "3.11.4"
  }
 },
 "nbformat": 4,
 "nbformat_minor": 5
}
