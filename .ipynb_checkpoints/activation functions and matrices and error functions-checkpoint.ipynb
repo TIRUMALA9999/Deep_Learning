{
 "cells": [
  {
   "cell_type": "code",
   "execution_count": 1,
   "id": "859b635b",
   "metadata": {},
   "outputs": [],
   "source": [
    "import math\n",
    "def sigmoid(x):\n",
    "    return 1/(1+math.exp(-x))"
   ]
  },
  {
   "cell_type": "code",
   "execution_count": 2,
   "id": "afb60a1d",
   "metadata": {},
   "outputs": [
    {
     "data": {
      "text/plain": [
       "0.7310585786300049"
      ]
     },
     "execution_count": 2,
     "metadata": {},
     "output_type": "execute_result"
    }
   ],
   "source": [
    "sigmoid(1)"
   ]
  },
  {
   "cell_type": "code",
   "execution_count": 3,
   "id": "63fbe0b6",
   "metadata": {},
   "outputs": [
    {
     "data": {
      "text/plain": [
       "4.780892883885469e-25"
      ]
     },
     "execution_count": 3,
     "metadata": {},
     "output_type": "execute_result"
    }
   ],
   "source": [
    "sigmoid(-56)"
   ]
  },
  {
   "cell_type": "code",
   "execution_count": 4,
   "id": "01068d51",
   "metadata": {},
   "outputs": [
    {
     "data": {
      "text/plain": [
       "0.6224593312018546"
      ]
     },
     "execution_count": 4,
     "metadata": {},
     "output_type": "execute_result"
    }
   ],
   "source": [
    "sigmoid(0.5)"
   ]
  },
  {
   "cell_type": "code",
   "execution_count": 5,
   "id": "8c67fd7a",
   "metadata": {},
   "outputs": [],
   "source": [
    "def tanh(x):\n",
    "    return(math.exp(x) - math.exp(-x))/(math.exp(x) + math.exp(-x))"
   ]
  },
  {
   "cell_type": "code",
   "execution_count": 6,
   "id": "30593d56",
   "metadata": {},
   "outputs": [
    {
     "data": {
      "text/plain": [
       "-1.0"
      ]
     },
     "execution_count": 6,
     "metadata": {},
     "output_type": "execute_result"
    }
   ],
   "source": [
    "tanh(-56)"
   ]
  },
  {
   "cell_type": "code",
   "execution_count": 7,
   "id": "276ae615",
   "metadata": {},
   "outputs": [
    {
     "data": {
      "text/plain": [
       "0.7615941559557649"
      ]
     },
     "execution_count": 7,
     "metadata": {},
     "output_type": "execute_result"
    }
   ],
   "source": [
    "tanh(1)"
   ]
  },
  {
   "cell_type": "code",
   "execution_count": 8,
   "id": "6fca6e1c",
   "metadata": {},
   "outputs": [
    {
     "data": {
      "text/plain": [
       "1.0"
      ]
     },
     "execution_count": 8,
     "metadata": {},
     "output_type": "execute_result"
    }
   ],
   "source": [
    "tanh(50\n",
    "    )"
   ]
  },
  {
   "cell_type": "code",
   "execution_count": 9,
   "id": "1e94efc8",
   "metadata": {},
   "outputs": [],
   "source": [
    "def relu(x):\n",
    "    return max(0,x)"
   ]
  },
  {
   "cell_type": "code",
   "execution_count": 10,
   "id": "ed6ce52c",
   "metadata": {},
   "outputs": [
    {
     "data": {
      "text/plain": [
       "0"
      ]
     },
     "execution_count": 10,
     "metadata": {},
     "output_type": "execute_result"
    }
   ],
   "source": [
    "relu(-5)"
   ]
  },
  {
   "cell_type": "code",
   "execution_count": 11,
   "id": "0ef99a75",
   "metadata": {},
   "outputs": [
    {
     "data": {
      "text/plain": [
       "8"
      ]
     },
     "execution_count": 11,
     "metadata": {},
     "output_type": "execute_result"
    }
   ],
   "source": [
    "relu(8)"
   ]
  },
  {
   "cell_type": "code",
   "execution_count": 12,
   "id": "b9f08455",
   "metadata": {},
   "outputs": [],
   "source": [
    "def leaky_relu(x):\n",
    "    return max(0.1*x,x)"
   ]
  },
  {
   "cell_type": "code",
   "execution_count": 13,
   "id": "466bdb09",
   "metadata": {},
   "outputs": [
    {
     "data": {
      "text/plain": [
       "-0.1"
      ]
     },
     "execution_count": 13,
     "metadata": {},
     "output_type": "execute_result"
    }
   ],
   "source": [
    "leaky_relu(-1)"
   ]
  },
  {
   "cell_type": "code",
   "execution_count": 14,
   "id": "b2fdd9de",
   "metadata": {},
   "outputs": [
    {
     "data": {
      "text/plain": [
       "-10.0"
      ]
     },
     "execution_count": 14,
     "metadata": {},
     "output_type": "execute_result"
    }
   ],
   "source": [
    "leaky_relu(-100)"
   ]
  },
  {
   "cell_type": "code",
   "execution_count": 15,
   "id": "7bc1149d",
   "metadata": {},
   "outputs": [
    {
     "data": {
      "text/plain": [
       "7"
      ]
     },
     "execution_count": 15,
     "metadata": {},
     "output_type": "execute_result"
    }
   ],
   "source": [
    "leaky_relu(7)"
   ]
  },
  {
   "cell_type": "markdown",
   "id": "2b1758ff",
   "metadata": {},
   "source": [
    "# ABOUT MATRICES\n"
   ]
  },
  {
   "cell_type": "code",
   "execution_count": 16,
   "id": "f9577250",
   "metadata": {},
   "outputs": [],
   "source": [
    "import numpy as np"
   ]
  },
  {
   "cell_type": "code",
   "execution_count": 17,
   "id": "15ba58ba",
   "metadata": {},
   "outputs": [],
   "source": [
    "revenue=np.array([[180,200,220],[24,36,40],[12,18,20]])\n",
    "expenses=np.array([[80,90,100],[10,16,20],[8,10,10]])"
   ]
  },
  {
   "cell_type": "code",
   "execution_count": 18,
   "id": "7de9ce8f",
   "metadata": {},
   "outputs": [
    {
     "name": "stdout",
     "output_type": "stream",
     "text": [
      "[[100 110 120]\n",
      " [ 14  20  20]\n",
      " [  4   8  10]]\n"
     ]
    }
   ],
   "source": [
    "profit=revenue-expenses\n",
    "print(profit)"
   ]
  },
  {
   "cell_type": "code",
   "execution_count": 19,
   "id": "5550d648",
   "metadata": {},
   "outputs": [],
   "source": [
    "price_per_unit=np.array([1000,400,1200])\n",
    "number_of_units=np.array([[30,40,50],[5,10,15],[2,5,7]])"
   ]
  },
  {
   "cell_type": "code",
   "execution_count": 20,
   "id": "6fba3571",
   "metadata": {},
   "outputs": [
    {
     "name": "stdout",
     "output_type": "stream",
     "text": [
      "[[30000 16000 60000]\n",
      " [ 5000  4000 18000]\n",
      " [ 2000  2000  8400]]\n"
     ]
    }
   ],
   "source": [
    "Total_sales= price_per_unit*number_of_units   #multiplication\n",
    "print(Total_sales)"
   ]
  },
  {
   "cell_type": "code",
   "execution_count": 21,
   "id": "ad7c2df1",
   "metadata": {},
   "outputs": [
    {
     "data": {
      "text/plain": [
       "array([34400, 50000, 64400])"
      ]
     },
     "execution_count": 21,
     "metadata": {},
     "output_type": "execute_result"
    }
   ],
   "source": [
    "np.dot(price_per_unit,number_of_units)   #dot product"
   ]
  },
  {
   "cell_type": "code",
   "execution_count": 22,
   "id": "1fffc31e",
   "metadata": {},
   "outputs": [
    {
     "name": "stdout",
     "output_type": "stream",
     "text": [
      "[[2250 3000 3750]\n",
      " [ 375  750 1125]\n",
      " [ 150  375  525]]\n"
     ]
    }
   ],
   "source": [
    "print(75*number_of_units)"
   ]
  },
  {
   "cell_type": "code",
   "execution_count": 23,
   "id": "95924f65",
   "metadata": {},
   "outputs": [],
   "source": [
    "units_sold=np.array([[50,10,40],[60,13,70],[25,5,52]])\n",
    "price_per_unit=np.array([20,30,15])"
   ]
  },
  {
   "cell_type": "code",
   "execution_count": 24,
   "id": "486a2273",
   "metadata": {},
   "outputs": [
    {
     "data": {
      "text/plain": [
       "array([1900, 2640, 1430])"
      ]
     },
     "execution_count": 24,
     "metadata": {},
     "output_type": "execute_result"
    }
   ],
   "source": [
    "np.dot(units_sold,price_per_unit)"
   ]
  },
  {
   "cell_type": "code",
   "execution_count": null,
   "id": "b0e25465",
   "metadata": {},
   "outputs": [],
   "source": []
  },
  {
   "cell_type": "code",
   "execution_count": null,
   "id": "fc3ddcb1",
   "metadata": {},
   "outputs": [],
   "source": []
  },
  {
   "cell_type": "markdown",
   "id": "a17d51cf",
   "metadata": {},
   "source": [
    "# ABOUT  LOSS or COST FUNCTION\n"
   ]
  },
  {
   "cell_type": "code",
   "execution_count": 25,
   "id": "b6b0e05e",
   "metadata": {},
   "outputs": [],
   "source": [
    " import numpy as np"
   ]
  },
  {
   "cell_type": "markdown",
   "id": "bc03e1b6",
   "metadata": {},
   "source": [
    "# Mean absolute error"
   ]
  },
  {
   "cell_type": "code",
   "execution_count": 26,
   "id": "5928b126",
   "metadata": {},
   "outputs": [],
   "source": [
    "y_predicted=np.array([1,1,0,0,1])\n",
    "y_true=np.array([0.30,0.7,1,0,0.5])"
   ]
  },
  {
   "cell_type": "code",
   "execution_count": 27,
   "id": "7e08cb6d",
   "metadata": {},
   "outputs": [],
   "source": [
    "def mae(y_true,y_predicted):\n",
    "    total_error=0\n",
    "    for yt,yp in zip(y_true,y_predicted):\n",
    "        #print(yt,yp)\n",
    "        total_error+=np.abs(yt-yp)\n",
    "    print(\"Total error: \",total_error)\n",
    "    mae=total_error/len(y_true)\n",
    "    print(\"MAE:\",mae)\n",
    "    \n",
    " "
   ]
  },
  {
   "cell_type": "code",
   "execution_count": 28,
   "id": "f64251ed",
   "metadata": {},
   "outputs": [
    {
     "name": "stdout",
     "output_type": "stream",
     "text": [
      "Total error:  2.5\n",
      "MAE: 0.5\n"
     ]
    }
   ],
   "source": [
    "mae(y_true,y_predicted)"
   ]
  },
  {
   "cell_type": "code",
   "execution_count": 29,
   "id": "6f49ef6f",
   "metadata": {},
   "outputs": [
    {
     "data": {
      "text/plain": [
       "array([ 0.7,  0.3, -1. ,  0. ,  0.5])"
      ]
     },
     "execution_count": 29,
     "metadata": {},
     "output_type": "execute_result"
    }
   ],
   "source": [
    "y_predicted-y_true"
   ]
  },
  {
   "cell_type": "code",
   "execution_count": 30,
   "id": "533e9b1e",
   "metadata": {},
   "outputs": [
    {
     "data": {
      "text/plain": [
       "array([0.7, 0.3, 1. , 0. , 0.5])"
      ]
     },
     "execution_count": 30,
     "metadata": {},
     "output_type": "execute_result"
    }
   ],
   "source": [
    "np.abs(y_predicted-y_true)"
   ]
  },
  {
   "cell_type": "code",
   "execution_count": 31,
   "id": "e2f2427c",
   "metadata": {},
   "outputs": [
    {
     "data": {
      "text/plain": [
       "2.5"
      ]
     },
     "execution_count": 31,
     "metadata": {},
     "output_type": "execute_result"
    }
   ],
   "source": [
    "np.sum(np.abs(y_predicted-y_true))"
   ]
  },
  {
   "cell_type": "code",
   "execution_count": 32,
   "id": "7a02ac77",
   "metadata": {},
   "outputs": [
    {
     "data": {
      "text/plain": [
       "0.5"
      ]
     },
     "execution_count": 32,
     "metadata": {},
     "output_type": "execute_result"
    }
   ],
   "source": [
    "np.mean(np.abs(y_predicted-y_true))"
   ]
  },
  {
   "cell_type": "code",
   "execution_count": 33,
   "id": "547a3791",
   "metadata": {},
   "outputs": [
    {
     "name": "stderr",
     "output_type": "stream",
     "text": [
      "C:\\Users\\Lenovo\\AppData\\Local\\Temp\\ipykernel_17008\\262464415.py:1: RuntimeWarning: divide by zero encountered in log\n",
      "  np.log([0])\n"
     ]
    },
    {
     "data": {
      "text/plain": [
       "array([-inf])"
      ]
     },
     "execution_count": 33,
     "metadata": {},
     "output_type": "execute_result"
    }
   ],
   "source": [
    "np.log([0])"
   ]
  },
  {
   "cell_type": "code",
   "execution_count": 34,
   "id": "2d94c2a1",
   "metadata": {},
   "outputs": [
    {
     "data": {
      "text/plain": [
       "array([-16.11809565])"
      ]
     },
     "execution_count": 34,
     "metadata": {},
     "output_type": "execute_result"
    }
   ],
   "source": [
    "np.log([0.0000001])"
   ]
  },
  {
   "cell_type": "code",
   "execution_count": 35,
   "id": "c0866817",
   "metadata": {},
   "outputs": [
    {
     "name": "stdout",
     "output_type": "stream",
     "text": [
      "[1 1 0 0 1]\n"
     ]
    }
   ],
   "source": [
    "print(y_predicted)\n"
   ]
  },
  {
   "cell_type": "code",
   "execution_count": 36,
   "id": "d1d176bf",
   "metadata": {},
   "outputs": [],
   "source": [
    "epsilon=1e-15    #for logarithmic values of 0 it is undefined. So that we are converting 0 values to nearest values to zero\n",
    "                  # i.e(1e-15) "
   ]
  },
  {
   "cell_type": "code",
   "execution_count": 37,
   "id": "afdb9d76",
   "metadata": {},
   "outputs": [
    {
     "data": {
      "text/plain": [
       "[1, 1, 1e-15, 1e-15, 1]"
      ]
     },
     "execution_count": 37,
     "metadata": {},
     "output_type": "execute_result"
    }
   ],
   "source": [
    "y_predicted_new=[ max(i,epsilon) for i in y_predicted]\n",
    "y_predicted_new\n",
    "\n",
    "#print(1-(np.y_predicted_new))"
   ]
  },
  {
   "cell_type": "code",
   "execution_count": 38,
   "id": "3820a8fe",
   "metadata": {},
   "outputs": [
    {
     "name": "stdout",
     "output_type": "stream",
     "text": [
      "[0.999999999999999, 0.999999999999999, 1e-15, 1e-15, 0.999999999999999]\n",
      "[-9.99200722e-16 -9.99200722e-16 -3.45387764e+01 -3.45387764e+01\n",
      " -9.99200722e-16]\n"
     ]
    }
   ],
   "source": [
    "y_predicted_new1=[ min(i,1-epsilon) for i in y_predicted_new]\n",
    "print(y_predicted_new1)\n",
    "print(np.log(y_predicted_new1))"
   ]
  },
  {
   "cell_type": "code",
   "execution_count": 39,
   "id": "4a7561b8",
   "metadata": {},
   "outputs": [
    {
     "data": {
      "text/plain": [
       "array([-9.99200722e-16, -9.99200722e-16, -3.45387764e+01, -3.45387764e+01,\n",
       "       -9.99200722e-16])"
      ]
     },
     "execution_count": 39,
     "metadata": {},
     "output_type": "execute_result"
    }
   ],
   "source": [
    "y_predicted_new2=np.array(y_predicted_new1)\n",
    "np.log(y_predicted_new2)"
   ]
  },
  {
   "cell_type": "code",
   "execution_count": 40,
   "id": "a68ae714",
   "metadata": {},
   "outputs": [
    {
     "data": {
      "text/plain": [
       "17.2696280766844"
      ]
     },
     "execution_count": 40,
     "metadata": {},
     "output_type": "execute_result"
    }
   ],
   "source": [
    "-np.mean(y_true*np.log(y_predicted_new2)+(1-y_true)*np.log(1-y_predicted_new2))"
   ]
  },
  {
   "cell_type": "code",
   "execution_count": 41,
   "id": "7466f691",
   "metadata": {},
   "outputs": [
    {
     "data": {
      "text/plain": [
       "array([-9.99200722e-16, -9.99200722e-16, -3.45387764e+01, -3.45387764e+01,\n",
       "       -9.99200722e-16])"
      ]
     },
     "execution_count": 41,
     "metadata": {},
     "output_type": "execute_result"
    }
   ],
   "source": [
    "np.log(y_predicted_new1)"
   ]
  },
  {
   "cell_type": "code",
   "execution_count": 42,
   "id": "69981eb6",
   "metadata": {
    "scrolled": true
   },
   "outputs": [
    {
     "name": "stderr",
     "output_type": "stream",
     "text": [
      "C:\\Users\\Lenovo\\AppData\\Local\\Temp\\ipykernel_17008\\815880036.py:1: RuntimeWarning: divide by zero encountered in log\n",
      "  np.log(y_predicted)\n"
     ]
    },
    {
     "data": {
      "text/plain": [
       "array([  0.,   0., -inf, -inf,   0.])"
      ]
     },
     "execution_count": 42,
     "metadata": {},
     "output_type": "execute_result"
    }
   ],
   "source": [
    "np.log(y_predicted)"
   ]
  },
  {
   "cell_type": "code",
   "execution_count": 43,
   "id": "c86c0220",
   "metadata": {},
   "outputs": [
    {
     "data": {
      "text/plain": [
       "array([  0.        ,   0.        , -34.53877639, -34.53877639,\n",
       "         0.        ])"
      ]
     },
     "execution_count": 43,
     "metadata": {},
     "output_type": "execute_result"
    }
   ],
   "source": [
    "np.log(y_predicted_new)"
   ]
  },
  {
   "cell_type": "code",
   "execution_count": 44,
   "id": "effc88c8",
   "metadata": {},
   "outputs": [
    {
     "data": {
      "text/plain": [
       "array([-9.99200722e-16, -9.99200722e-16, -3.45387764e+01, -3.45387764e+01,\n",
       "       -9.99200722e-16])"
      ]
     },
     "execution_count": 44,
     "metadata": {},
     "output_type": "execute_result"
    }
   ],
   "source": [
    "y_predicted_new1=np.array(y_predicted_new1)\n",
    "np.log(y_predicted_new1)"
   ]
  },
  {
   "cell_type": "code",
   "execution_count": 45,
   "id": "60189f10",
   "metadata": {},
   "outputs": [
    {
     "data": {
      "text/plain": [
       "17.2696280766844"
      ]
     },
     "execution_count": 45,
     "metadata": {},
     "output_type": "execute_result"
    }
   ],
   "source": [
    "-np.mean(y_true*np.log(y_predicted_new2)+(1-y_true)*np.log(1-y_predicted_new2))"
   ]
  },
  {
   "cell_type": "markdown",
   "id": "6177df68",
   "metadata": {},
   "source": [
    "# Log Loss Function"
   ]
  },
  {
   "cell_type": "code",
   "execution_count": 46,
   "id": "024fba6d",
   "metadata": {},
   "outputs": [],
   "source": [
    "def logloss(y_true,y_predicted):\n",
    "    y_predicted_new=[max(i,epsilon) for i in y_predicted]\n",
    "    print(y_predicted_new)\n",
    "    y_predicted_new=[min(i,1-epsilon) for i in y_predicted_new]\n",
    "    print((y_predicted_new))\n",
    "    y_predicted_new=np.array(y_predicted_new)\n",
    "    print(y_predicted_new)\n",
    "    print(np.log(y_predicted_new))\n",
    "    return -np.mean(y_true*np.log(y_predicted_new)+(1-y_true)*np.log(1-y_predicted_new))"
   ]
  },
  {
   "cell_type": "code",
   "execution_count": 47,
   "id": "2224c1b0",
   "metadata": {},
   "outputs": [],
   "source": [
    "epsilon=1e-15"
   ]
  },
  {
   "cell_type": "code",
   "execution_count": 48,
   "id": "a6ca7b04",
   "metadata": {},
   "outputs": [
    {
     "name": "stdout",
     "output_type": "stream",
     "text": [
      "[1, 1, 1e-15, 1e-15, 1]\n",
      "[0.999999999999999, 0.999999999999999, 1e-15, 1e-15, 0.999999999999999]\n",
      "[1.e+00 1.e+00 1.e-15 1.e-15 1.e+00]\n",
      "[-9.99200722e-16 -9.99200722e-16 -3.45387764e+01 -3.45387764e+01\n",
      " -9.99200722e-16]\n"
     ]
    },
    {
     "data": {
      "text/plain": [
       "17.2696280766844"
      ]
     },
     "execution_count": 48,
     "metadata": {},
     "output_type": "execute_result"
    }
   ],
   "source": [
    "logloss(y_true,y_predicted)"
   ]
  },
  {
   "cell_type": "code",
   "execution_count": null,
   "id": "49395519",
   "metadata": {},
   "outputs": [],
   "source": []
  },
  {
   "cell_type": "markdown",
   "id": "43919a99",
   "metadata": {},
   "source": [
    "# MEAN SQUARE ERROR\n",
    "\n"
   ]
  },
  {
   "cell_type": "code",
   "execution_count": 1,
   "id": "39538863",
   "metadata": {},
   "outputs": [],
   "source": [
    "import numpy as np\n",
    "\n",
    "y_predicted = np.array([1,1,0,0,1])\n",
    "y_true = np.array([0.30,0.7,1,0,0.5])"
   ]
  },
  {
   "cell_type": "code",
   "execution_count": 2,
   "id": "f4ebf4c0",
   "metadata": {},
   "outputs": [],
   "source": [
    "def mse(y_true, y_predicted):\n",
    "    total_error = 0\n",
    "    for yt, yp in zip(y_true, y_predicted):\n",
    "        total_error += (yt-yp)**2\n",
    "    print(\"Total Squared Error:\",total_error)\n",
    "    mse = total_error/len(y_true)\n",
    "    print(\"Mean Squared Error:\",mse)\n",
    "    return mse"
   ]
  },
  {
   "cell_type": "code",
   "execution_count": 3,
   "id": "70cbcff3",
   "metadata": {},
   "outputs": [
    {
     "name": "stdout",
     "output_type": "stream",
     "text": [
      "Total Squared Error: 1.83\n",
      "Mean Squared Error: 0.366\n"
     ]
    },
    {
     "data": {
      "text/plain": [
       "0.366"
      ]
     },
     "execution_count": 3,
     "metadata": {},
     "output_type": "execute_result"
    }
   ],
   "source": [
    "mse(y_true, y_predicted)"
   ]
  },
  {
   "cell_type": "code",
   "execution_count": 4,
   "id": "53115330",
   "metadata": {},
   "outputs": [
    {
     "data": {
      "text/plain": [
       "0.366"
      ]
     },
     "execution_count": 4,
     "metadata": {},
     "output_type": "execute_result"
    }
   ],
   "source": [
    "np.mean(np.square(y_true-y_predicted))     #MSE by using numpy"
   ]
  },
  {
   "cell_type": "code",
   "execution_count": null,
   "id": "13a39cb8",
   "metadata": {},
   "outputs": [],
   "source": []
  }
 ],
 "metadata": {
  "kernelspec": {
   "display_name": "Python 3 (ipykernel)",
   "language": "python",
   "name": "python3"
  },
  "language_info": {
   "codemirror_mode": {
    "name": "ipython",
    "version": 3
   },
   "file_extension": ".py",
   "mimetype": "text/x-python",
   "name": "python",
   "nbconvert_exporter": "python",
   "pygments_lexer": "ipython3",
   "version": "3.9.13"
  }
 },
 "nbformat": 4,
 "nbformat_minor": 5
}
